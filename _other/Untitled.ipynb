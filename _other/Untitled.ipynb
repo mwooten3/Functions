{
 "cells": [
  {
   "cell_type": "code",
   "execution_count": 5,
   "id": "6c04f336-a886-463f-8547-6f49eaa0a6a8",
   "metadata": {},
   "outputs": [],
   "source": [
    "import pandas as pd\n",
    "\n",
    "import matplotlib.pyplot as plt\n",
    "\n",
    "plt.style.use('fivethirtyeight')\n",
    "%matplotlib inline"
   ]
  },
  {
   "cell_type": "code",
   "execution_count": 6,
   "id": "f16e510a-10de-49eb-bb90-d77ac1943c00",
   "metadata": {},
   "outputs": [],
   "source": [
    "inc = '/panfs/ccds02/nobackup/people/mwooten3/Eric_PR/SJ_WV_M1BS_2015to2019_wetSeason.csv'\n",
    "df=pd.read_csv(inc)"
   ]
  },
  {
   "cell_type": "code",
   "execution_count": 20,
   "id": "1f0ae680-ef04-48c7-8549-bc4222b14cee",
   "metadata": {},
   "outputs": [
    {
     "name": "stdout",
     "output_type": "stream",
     "text": [
      "    FID  Shape *  OBJECTID                            stripName  FIRST_acq_  \\\n",
      "0   180  Polygon       181  WV02_20150803_M1BS_1030010045342E00        2015   \n",
      "1   181  Polygon       182  WV02_20150803_M1BS_10300100464C8200        2015   \n",
      "2   182  Polygon       183  WV02_20150803_M1BS_1030010048816D00        2015   \n",
      "3   183  Polygon       184  WV02_20150814_M1BS_10300100463C6600        2015   \n",
      "4   184  Polygon       185  WV02_20150814_M1BS_103001004737C900        2015   \n",
      "5   185  Polygon       186  WV02_20150822_M1BS_10300100464CC800        2015   \n",
      "6   186  Polygon       187  WV02_20150822_M1BS_1030010046CB1D00        2015   \n",
      "7   187  Polygon       188  WV02_20150822_M1BS_1030010048781600        2015   \n",
      "8   188  Polygon       189  WV02_20150822_M1BS_1030010049BA0600        2015   \n",
      "9   189  Polygon       190  WV02_20150825_M1BS_1030010048BE3700        2015   \n",
      "10  190  Polygon       191  WV02_20150829_M1BS_103001004944C900        2015   \n",
      "11  191  Polygon       192  WV02_20150910_M1BS_1030010048709200        2015   \n",
      "12  192  Polygon       193  WV02_20150918_M1BS_1030010049BB6F00        2015   \n",
      "13  193  Polygon       194  WV02_20150918_M1BS_1030010049CFE700        2015   \n",
      "14  194  Polygon       195  WV02_20150918_M1BS_103001004BD5F100        2015   \n",
      "15  195  Polygon       196  WV02_20150921_M1BS_1030010049D6A200        2015   \n",
      "16  196  Polygon       197  WV02_20150929_M1BS_1030010048B7A100        2015   \n",
      "17  197  Polygon       198  WV02_20150929_M1BS_1030010049209E00        2015   \n",
      "18  198  Polygon       199  WV02_20150929_M1BS_103001004A59CB00        2015   \n",
      "19  199  Polygon       200  WV02_20151021_M1BS_103001004A2B5A00        2015   \n",
      "20  200  Polygon       201  WV02_20151021_M1BS_103001004B2CAF00        2015   \n",
      "21  201  Polygon       202  WV02_20151021_M1BS_103001004BD62800        2015   \n",
      "22  202  Polygon       203  WV02_20151029_M1BS_103001004BB78400        2015   \n",
      "23  230  Polygon       231  WV02_20160803_M1BS_103001005A1E8C00        2016   \n",
      "24  231  Polygon       232  WV02_20160814_M1BS_103001005C3DA100        2016   \n",
      "25  232  Polygon       233  WV02_20160921_M1BS_103001005D239400        2016   \n",
      "26  233  Polygon       234  WV02_20160921_M1BS_103001005D430C00        2016   \n",
      "27  234  Polygon       235  WV02_20161023_M1BS_103001005D0CB500        2016   \n",
      "28  235  Polygon       236  WV02_20161023_M1BS_103001005F0B3300        2016   \n",
      "29  264  Polygon       265  WV02_20170902_M1BS_10300100706F4E00        2017   \n",
      "30  265  Polygon       266  WV02_20170908_M1BS_103001006F756500        2017   \n",
      "31  266  Polygon       267  WV02_20170924_M1BS_103001006F751200        2017   \n",
      "32  267  Polygon       268  WV02_20170924_M1BS_1030010072069C00        2017   \n",
      "33  268  Polygon       269  WV02_20170924_M1BS_10300100728F1700        2017   \n",
      "34  269  Polygon       270  WV02_20171002_M1BS_103001007331BC00        2017   \n",
      "35  270  Polygon       271  WV02_20171003_M1BS_1030010072D0C500        2017   \n",
      "36  271  Polygon       272  WV02_20171021_M1BS_1030010071003700        2017   \n",
      "37  272  Polygon       273  WV02_20171024_M1BS_10300100710B3600        2017   \n",
      "38  273  Polygon       274  WV02_20171024_M1BS_10300100723DED00        2017   \n",
      "39  274  Polygon       275  WV02_20171024_M1BS_103001007280D100        2017   \n",
      "40  275  Polygon       276  WV02_20171024_M1BS_1030010073699100        2017   \n",
      "41  276  Polygon       277  WV02_20171101_M1BS_1030010071145900        2017   \n",
      "42  277  Polygon       278  WV02_20171101_M1BS_1030010073866D00        2017   \n",
      "43  278  Polygon       279  WV02_20171101_M1BS_10300100741CCD00        2017   \n",
      "44  291  Polygon       292  WV02_20190802_M1BS_1030010097104000        2019   \n",
      "45  292  Polygon       293  WV02_20191004_M1BS_1030010099621500        2019   \n",
      "46  293  Polygon       294  WV02_20191012_M1BS_1030010099B5FF00        2019   \n",
      "47  294  Polygon       295  WV02_20191023_M1BS_103001009A7EDE00        2019   \n",
      "48  333  Polygon       334  WV03_20150829_M1BS_104001001005C000        2015   \n",
      "49  334  Polygon       335  WV03_20150831_M1BS_1040010010660E00        2015   \n",
      "50  335  Polygon       336  WV03_20150925_M1BS_1040010011665000        2015   \n",
      "51  336  Polygon       337  WV03_20150925_M1BS_1040010012910D00        2015   \n",
      "52  342  Polygon       343  WV03_20161013_M1BS_1040010022BC3B00        2016   \n",
      "53  343  Polygon       344  WV03_20161013_M1BS_1040010023709000        2016   \n",
      "54  357  Polygon       358  WV03_20170912_M1BS_10400100320B2C00        2017   \n",
      "55  358  Polygon       359  WV03_20171004_M1BS_10400100339C6E00        2017   \n",
      "56  369  Polygon       370  WV03_20181026_M1BS_104001004261F400        2018   \n",
      "57  375  Polygon       376  WV03_20190810_M1BS_10400100516CBF00        2019   \n",
      "58  376  Polygon       377  WV03_20190830_M1BS_1040010051540A00        2019   \n",
      "59  377  Polygon       378  WV03_20190830_M1BS_1040010052CA2100        2019   \n",
      "\n",
      "    FIRST_acq1  uId     date  dateStr  \n",
      "0            8  181  2015.08  2015.08  \n",
      "1            8  182  2015.08  2015.08  \n",
      "2            8  183  2015.08  2015.08  \n",
      "3            8  184  2015.08  2015.08  \n",
      "4            8  185  2015.08  2015.08  \n",
      "5            8  186  2015.08  2015.08  \n",
      "6            8  187  2015.08  2015.08  \n",
      "7            8  188  2015.08  2015.08  \n",
      "8            8  189  2015.08  2015.08  \n",
      "9            8  190  2015.08  2015.08  \n",
      "10           8  191  2015.08  2015.08  \n",
      "11           9  192  2015.09  2015.09  \n",
      "12           9  193  2015.09  2015.09  \n",
      "13           9  194  2015.09  2015.09  \n",
      "14           9  195  2015.09  2015.09  \n",
      "15           9  196  2015.09  2015.09  \n",
      "16           9  197  2015.09  2015.09  \n",
      "17           9  198  2015.09  2015.09  \n",
      "18           9  199  2015.09  2015.09  \n",
      "19          10  200  2015.10  2015.10  \n",
      "20          10  201  2015.10  2015.10  \n",
      "21          10  202  2015.10  2015.10  \n",
      "22          10  203  2015.10  2015.10  \n",
      "23           8  231  2016.08  2016.08  \n",
      "24           8  232  2016.08  2016.08  \n",
      "25           9  233  2016.09  2016.09  \n",
      "26           9  234  2016.09  2016.09  \n",
      "27          10  235  2016.10  2016.10  \n",
      "28          10  236  2016.10  2016.10  \n",
      "29           9  265  2017.09  2017.09  \n",
      "30           9  266  2017.09  2017.09  \n",
      "31           9  267  2017.09  2017.09  \n",
      "32           9  268  2017.09  2017.09  \n",
      "33           9  269  2017.09  2017.09  \n",
      "34          10  270  2017.10  2017.10  \n",
      "35          10  271  2017.10  2017.10  \n",
      "36          10  272  2017.10  2017.10  \n",
      "37          10  273  2017.10  2017.10  \n",
      "38          10  274  2017.10  2017.10  \n",
      "39          10  275  2017.10  2017.10  \n",
      "40          10  276  2017.10  2017.10  \n",
      "41          10  277  2017.10  2017.10  \n",
      "42          10  278  2017.10  2017.10  \n",
      "43          10  279  2017.10  2017.10  \n",
      "44           8  292  2019.08  2019.08  \n",
      "45          10  293  2019.10  2019.10  \n",
      "46          10  294  2019.10  2019.10  \n",
      "47          10  295  2019.10  2019.10  \n",
      "48           8  334  2015.08  2015.08  \n",
      "49           8  335  2015.08  2015.08  \n",
      "50           9  336  2015.09  2015.09  \n",
      "51           9  337  2015.09  2015.09  \n",
      "52          10  343  2016.10  2016.10  \n",
      "53          10  344  2016.10  2016.10  \n",
      "54           9  358  2017.09  2017.09  \n",
      "55          10  359  2017.10  2017.10  \n",
      "56          10  370  2018.10  2018.10  \n",
      "57           8  376  2019.08  2019.08  \n",
      "58           8  377  2019.08  2019.08  \n",
      "59           8  378  2019.08  2019.08  \n"
     ]
    }
   ],
   "source": [
    "df['dateStr'] = df.date.astype(str).str.pad(width=7, side='right', fillchar='0')\n",
    "print(df)"
   ]
  },
  {
   "cell_type": "code",
   "execution_count": 23,
   "id": "0b908029-7526-4442-881c-9e7bfe0dd871",
   "metadata": {},
   "outputs": [
    {
     "data": {
      "text/plain": [
       "Text(0.5, 1.0, 'San Juan WV Strip Count by Date')"
      ]
     },
     "execution_count": 23,
     "metadata": {},
     "output_type": "execute_result"
    },
    {
     "data": {
      "image/png": "[encoded data removed]",
      "text/plain": [
       "<Figure size 432x288 with 1 Axes>"
      ]
     },
     "metadata": {
      "needs_background": "light"
     },
     "output_type": "display_data"
    }
   ],
   "source": [
    "df.dateStr.value_counts().sort_index(ascending=True).plot(kind = 'bar')\n",
    "plt.xticks(rotation=45)\n",
    "\n",
    "plt.xlabel('Date (yyyy.mm)')\n",
    "plt.ylabel('Strip Count')\n",
    "\n",
    "plt.title('San Juan WV Strip Count by Date')"
   ]
  },
  {
   "cell_type": "code",
   "execution_count": null,
   "id": "f6311e1f-612b-4e62-99c3-6886a402b4b6",
   "metadata": {},
   "outputs": [],
   "source": []
  }
 ],
 "metadata": {
  "kernelspec": {
   "display_name": "Python [conda env:ilab]",
   "language": "python",
   "name": "conda-env-ilab-py"
  },
  "language_info": {
   "codemirror_mode": {
    "name": "ipython",
    "version": 3
   },
   "file_extension": ".py",
   "mimetype": "text/x-python",
   "name": "python",
   "nbconvert_exporter": "python",
   "pygments_lexer": "ipython3",
   "version": "3.7.12"
  }
 },
 "nbformat": 4,
 "nbformat_minor": 5
}
